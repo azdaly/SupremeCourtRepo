{
 "cells": [
  {
   "cell_type": "code",
   "execution_count": 10,
   "metadata": {},
   "outputs": [],
   "source": [
    "import pandas as pd\n",
    "import re"
   ]
  },
  {
   "cell_type": "code",
   "execution_count": 60,
   "metadata": {},
   "outputs": [],
   "source": [
    "years = ['1999', '2001', '2003', '2005', '2007',\n",
    "         '2009', '2011', '2013', '2015', '2017', \n",
    "         '2019', '2000', '2002', '2004', '2006',\n",
    "         '2008', '2010', '2012', '2014', '2016', \n",
    "         '2018']"
   ]
  },
  {
   "cell_type": "markdown",
   "metadata": {},
   "source": [
    "THERE'S SOME WEIRD STUFF LIKE #=72 IN 2018...GO BACK AND FIX THIS..."
   ]
  },
  {
   "cell_type": "code",
   "execution_count": 136,
   "metadata": {},
   "outputs": [],
   "source": [
    "df_dict = {}\n",
    "for eachYear in years: \n",
    "    file_2019 = open('./raw_wiki_data/%s.txt' % str(eachYear), 'r')\n",
    "\n",
    "    current_case = 0\n",
    "    justice_info = {}\n",
    "    justice_df = pd.DataFrame()\n",
    "    for each_line in file_2019:\n",
    "        ###### FIX THIS PART TO FIX THE JUSTICES\n",
    "        # Getting the justices:\n",
    "        if 'SCOTUS-termlist-start' in each_line:\n",
    "            justices_info = each_line.strip().strip('}}').split('|')[1:]\n",
    "            justices_info = [item.lower().replace(' ', '') for item in justices_info]\n",
    "            justice_df = pd.DataFrame(columns=justices_info)\n",
    "\n",
    "        # If you hit this, that means you're on a new case:\n",
    "        if '#=' in each_line:\n",
    "            # Updating the iterator:\n",
    "            previous_case = current_case\n",
    "            current_case += 1\n",
    "            # If you don't have any justice info yet, continue\n",
    "            if len(justice_info.keys()) == 0:\n",
    "                continue\n",
    "            # Otherwise, make a df out of that info:\n",
    "            temp_df = pd.DataFrame.from_dict(justice_info)\n",
    "            justice_df = justice_df.append(temp_df)\n",
    "            # Reset the dict:\n",
    "            justice_info = {}\n",
    "\n",
    "        # If there's no justice info, fuggetaboutit\n",
    "        if '|justice' not in each_line:\n",
    "            continue\n",
    "\n",
    "        ###### FIX THIS PART TO FIX THE OPINIONS\n",
    "        # Otherwise...\n",
    "        else:\n",
    "            # Start by getting the justice:\n",
    "            justice_list = each_line.split('--')\n",
    "            justice = justice_list[1].replace(' not yet appointed', '').replace('retired', '').replace(' ', '').strip()\n",
    "            # Get the opinion:\n",
    "            opinion = justice_list[0].split('=')[1].split(' |')[0].replace(' not yet appointed', '').replace('retired', '').replace(' ', '').strip()\n",
    "            justice_info[justice.lower()] = [opinion]\n",
    "\n",
    "    justice_df.to_excel('./parsed_wiki_data/%s.xlsx' % str(eachYear))\n",
    "    df_dict[eachYear] = justice_df\n",
    "#     if eachYear == '2008':\n",
    "#         break"
   ]
  },
  {
   "cell_type": "markdown",
   "metadata": {},
   "source": [
    "Right now, I'm doing splitting...instead, I'm going to get all possible strings, and pattern match:"
   ]
  },
  {
   "cell_type": "code",
   "execution_count": 154,
   "metadata": {},
   "outputs": [],
   "source": [
    "all_combined = []\n",
    "for each_year in df_dict.keys():\n",
    "    for each_column in df_dict[each_year]:\n",
    "        temp_column_val = list(set([re.sub(r'\\d+', '', item) for item in list(set(df_dict[each_year][each_column]))]))\n",
    "        all_combined = all_combined + temp_column_val"
   ]
  },
  {
   "cell_type": "code",
   "execution_count": 156,
   "metadata": {},
   "outputs": [
    {
     "name": "stdout",
     "output_type": "stream",
     "text": [
      "29\n",
      "19\n"
     ]
    }
   ],
   "source": [
    "# Cleaning up the all_combined, and using that to determine what the judges did:\n",
    "print(len(all_combined))\n",
    "all_combined = list(set(all_combined))\n",
    "cleaned_all_combined_v1 = [re.sub(r'\\d+', '', item) for item in all_combined]\n",
    "cleaned_all_combined_v2 = [item.split('|')[0] for item in cleaned_all_combined_v1]\n",
    "cleaned_all_combined_v3 = list(set(cleaned_all_combined_v2))\n",
    "print(len(cleaned_all_combined_v3))"
   ]
  },
  {
   "cell_type": "code",
   "execution_count": 157,
   "metadata": {},
   "outputs": [
    {
     "data": {
      "text/plain": [
       "['didnotparticipate',\n",
       " 'concurrencedissentwithoutopinion',\n",
       " 'partjoinmajority',\n",
       " 'majority',\n",
       " 'concurrence',\n",
       " 'partjoinconcurrence',\n",
       " 'joinplurality',\n",
       " 'partjoinplurality',\n",
       " 'dissentwithoutopinion',\n",
       " 'dissent',\n",
       " 'concurrencedissent',\n",
       " 'concurrencewithoutopinion',\n",
       " 'joinconcurrencedissent',\n",
       " 'joinmajority',\n",
       " 'plurality',\n",
       " 'joinconcurrence',\n",
       " 'partjoindissent',\n",
       " 'partjoinconcurrencedissent',\n",
       " 'joindissent']"
      ]
     },
     "execution_count": 157,
     "metadata": {},
     "output_type": "execute_result"
    }
   ],
   "source": [
    "cleaned_all_combined_v3"
   ]
  }
 ],
 "metadata": {
  "kernelspec": {
   "display_name": "Python 3",
   "language": "python",
   "name": "python3"
  },
  "language_info": {
   "codemirror_mode": {
    "name": "ipython",
    "version": 3
   },
   "file_extension": ".py",
   "mimetype": "text/x-python",
   "name": "python",
   "nbconvert_exporter": "python",
   "pygments_lexer": "ipython3",
   "version": "3.8.5"
  }
 },
 "nbformat": 4,
 "nbformat_minor": 4
}
